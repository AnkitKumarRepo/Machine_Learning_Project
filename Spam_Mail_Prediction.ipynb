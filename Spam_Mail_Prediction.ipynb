{
 "cells": [
  {
   "cell_type": "code",
   "execution_count": 1,
   "id": "27c6e3f1",
   "metadata": {
    "_cell_guid": "b1076dfc-b9ad-4769-8c92-a6c4dae69d19",
    "_uuid": "8f2839f25d086af736a60e9eeb907d3b93b6e0e5",
    "execution": {
     "iopub.execute_input": "2024-01-23T19:39:12.233225Z",
     "iopub.status.busy": "2024-01-23T19:39:12.232505Z",
     "iopub.status.idle": "2024-01-23T19:39:12.661198Z",
     "shell.execute_reply": "2024-01-23T19:39:12.660380Z"
    },
    "papermill": {
     "duration": 0.443064,
     "end_time": "2024-01-23T19:39:12.664158",
     "exception": false,
     "start_time": "2024-01-23T19:39:12.221094",
     "status": "completed"
    },
    "tags": []
   },
   "outputs": [
    {
     "name": "stdout",
     "output_type": "stream",
     "text": [
      "/kaggle/input/spam-mail-data/mail_data.csv\n"
     ]
    }
   ],
   "source": [
    "# This Python 3 environment comes with many helpful analytics libraries installed\n",
    "# It is defined by the kaggle/python Docker image: https://github.com/kaggle/docker-python\n",
    "# For example, here's several helpful packages to load\n",
    "\n",
    "import numpy as np # linear algebra\n",
    "import pandas as pd # data processing, CSV file I/O (e.g. pd.read_csv)\n",
    "\n",
    "# Input data files are available in the read-only \"../input/\" directory\n",
    "# For example, running this (by clicking run or pressing Shift+Enter) will list all files under the input directory\n",
    "\n",
    "import os\n",
    "for dirname, _, filenames in os.walk('/kaggle/input'):\n",
    "    for filename in filenames:\n",
    "        print(os.path.join(dirname, filename))\n",
    "\n",
    "# You can write up to 20GB to the current directory (/kaggle/working/) that gets preserved as output when you create a version using \"Save & Run All\" \n",
    "# You can also write temporary files to /kaggle/temp/, but they won't be saved outside of the current session"
   ]
  },
  {
   "cell_type": "code",
   "execution_count": 2,
   "id": "bd8e33e4",
   "metadata": {
    "execution": {
     "iopub.execute_input": "2024-01-23T19:39:12.684189Z",
     "iopub.status.busy": "2024-01-23T19:39:12.683478Z",
     "iopub.status.idle": "2024-01-23T19:39:13.883343Z",
     "shell.execute_reply": "2024-01-23T19:39:13.882216Z"
    },
    "papermill": {
     "duration": 1.212842,
     "end_time": "2024-01-23T19:39:13.886166",
     "exception": false,
     "start_time": "2024-01-23T19:39:12.673324",
     "status": "completed"
    },
    "tags": []
   },
   "outputs": [],
   "source": [
    "import numpy as np\n",
    "import pandas as pd\n",
    "from sklearn.model_selection import train_test_split\n",
    "from sklearn.linear_model import LogisticRegression\n",
    "from sklearn.metrics import accuracy_score\n",
    "from sklearn.feature_extraction.text import TfidfVectorizer "
   ]
  },
  {
   "cell_type": "markdown",
   "id": "1bd850b3",
   "metadata": {
    "papermill": {
     "duration": 0.010565,
     "end_time": "2024-01-23T19:39:13.905719",
     "exception": false,
     "start_time": "2024-01-23T19:39:13.895154",
     "status": "completed"
    },
    "tags": []
   },
   "source": [
    "Data collection and preprocessing"
   ]
  },
  {
   "cell_type": "code",
   "execution_count": 3,
   "id": "7cf6fca4",
   "metadata": {
    "execution": {
     "iopub.execute_input": "2024-01-23T19:39:13.925366Z",
     "iopub.status.busy": "2024-01-23T19:39:13.924944Z",
     "iopub.status.idle": "2024-01-23T19:39:13.961168Z",
     "shell.execute_reply": "2024-01-23T19:39:13.960232Z"
    },
    "papermill": {
     "duration": 0.048963,
     "end_time": "2024-01-23T19:39:13.963649",
     "exception": false,
     "start_time": "2024-01-23T19:39:13.914686",
     "status": "completed"
    },
    "tags": []
   },
   "outputs": [],
   "source": [
    "mail=pd.read_csv('/kaggle/input/spam-mail-data/mail_data.csv')"
   ]
  },
  {
   "cell_type": "code",
   "execution_count": 4,
   "id": "585e537d",
   "metadata": {
    "execution": {
     "iopub.execute_input": "2024-01-23T19:39:13.983355Z",
     "iopub.status.busy": "2024-01-23T19:39:13.982968Z",
     "iopub.status.idle": "2024-01-23T19:39:14.006245Z",
     "shell.execute_reply": "2024-01-23T19:39:14.005146Z"
    },
    "papermill": {
     "duration": 0.035793,
     "end_time": "2024-01-23T19:39:14.008664",
     "exception": false,
     "start_time": "2024-01-23T19:39:13.972871",
     "status": "completed"
    },
    "tags": []
   },
   "outputs": [
    {
     "data": {
      "text/html": [
       "<div>\n",
       "<style scoped>\n",
       "    .dataframe tbody tr th:only-of-type {\n",
       "        vertical-align: middle;\n",
       "    }\n",
       "\n",
       "    .dataframe tbody tr th {\n",
       "        vertical-align: top;\n",
       "    }\n",
       "\n",
       "    .dataframe thead th {\n",
       "        text-align: right;\n",
       "    }\n",
       "</style>\n",
       "<table border=\"1\" class=\"dataframe\">\n",
       "  <thead>\n",
       "    <tr style=\"text-align: right;\">\n",
       "      <th></th>\n",
       "      <th>Category</th>\n",
       "      <th>Message</th>\n",
       "    </tr>\n",
       "  </thead>\n",
       "  <tbody>\n",
       "    <tr>\n",
       "      <th>3848</th>\n",
       "      <td>spam</td>\n",
       "      <td>Fantasy Football is back on your TV. Go to Sky...</td>\n",
       "    </tr>\n",
       "    <tr>\n",
       "      <th>1377</th>\n",
       "      <td>ham</td>\n",
       "      <td>Auntie huai juan never pick up her phone</td>\n",
       "    </tr>\n",
       "    <tr>\n",
       "      <th>5063</th>\n",
       "      <td>ham</td>\n",
       "      <td>Havent stuck at orchard in my dad's car. Going...</td>\n",
       "    </tr>\n",
       "    <tr>\n",
       "      <th>1787</th>\n",
       "      <td>ham</td>\n",
       "      <td>Do you know why god created gap between your f...</td>\n",
       "    </tr>\n",
       "    <tr>\n",
       "      <th>860</th>\n",
       "      <td>ham</td>\n",
       "      <td>Did he just say somebody is named tampa</td>\n",
       "    </tr>\n",
       "    <tr>\n",
       "      <th>5098</th>\n",
       "      <td>spam</td>\n",
       "      <td>TheMob&gt;Hit the link to get a premium Pink Pant...</td>\n",
       "    </tr>\n",
       "    <tr>\n",
       "      <th>2414</th>\n",
       "      <td>ham</td>\n",
       "      <td>Lol please do. Actually send a pic of yourself...</td>\n",
       "    </tr>\n",
       "    <tr>\n",
       "      <th>4810</th>\n",
       "      <td>ham</td>\n",
       "      <td>Don't worry though, I understand how important...</td>\n",
       "    </tr>\n",
       "    <tr>\n",
       "      <th>1581</th>\n",
       "      <td>ham</td>\n",
       "      <td>I shall book chez jules for half eight, if tha...</td>\n",
       "    </tr>\n",
       "    <tr>\n",
       "      <th>2390</th>\n",
       "      <td>ham</td>\n",
       "      <td>Boo. How's things? I'm back at home and a litt...</td>\n",
       "    </tr>\n",
       "  </tbody>\n",
       "</table>\n",
       "</div>"
      ],
      "text/plain": [
       "     Category                                            Message\n",
       "3848     spam  Fantasy Football is back on your TV. Go to Sky...\n",
       "1377      ham           Auntie huai juan never pick up her phone\n",
       "5063      ham  Havent stuck at orchard in my dad's car. Going...\n",
       "1787      ham  Do you know why god created gap between your f...\n",
       "860       ham            Did he just say somebody is named tampa\n",
       "5098     spam  TheMob>Hit the link to get a premium Pink Pant...\n",
       "2414      ham  Lol please do. Actually send a pic of yourself...\n",
       "4810      ham  Don't worry though, I understand how important...\n",
       "1581      ham  I shall book chez jules for half eight, if tha...\n",
       "2390      ham  Boo. How's things? I'm back at home and a litt..."
      ]
     },
     "execution_count": 4,
     "metadata": {},
     "output_type": "execute_result"
    }
   ],
   "source": [
    "mail.sample(10)"
   ]
  },
  {
   "cell_type": "code",
   "execution_count": 5,
   "id": "cca4e0e4",
   "metadata": {
    "execution": {
     "iopub.execute_input": "2024-01-23T19:39:14.029258Z",
     "iopub.status.busy": "2024-01-23T19:39:14.028807Z",
     "iopub.status.idle": "2024-01-23T19:39:14.036780Z",
     "shell.execute_reply": "2024-01-23T19:39:14.035692Z"
    },
    "papermill": {
     "duration": 0.020843,
     "end_time": "2024-01-23T19:39:14.039043",
     "exception": false,
     "start_time": "2024-01-23T19:39:14.018200",
     "status": "completed"
    },
    "tags": []
   },
   "outputs": [],
   "source": [
    "# replace the null values with a null string\n",
    "mail_data = mail.where((pd.notnull(mail)),'')"
   ]
  },
  {
   "cell_type": "code",
   "execution_count": 6,
   "id": "d5216606",
   "metadata": {
    "execution": {
     "iopub.execute_input": "2024-01-23T19:39:14.058835Z",
     "iopub.status.busy": "2024-01-23T19:39:14.058424Z",
     "iopub.status.idle": "2024-01-23T19:39:14.069099Z",
     "shell.execute_reply": "2024-01-23T19:39:14.068010Z"
    },
    "papermill": {
     "duration": 0.023151,
     "end_time": "2024-01-23T19:39:14.071345",
     "exception": false,
     "start_time": "2024-01-23T19:39:14.048194",
     "status": "completed"
    },
    "tags": []
   },
   "outputs": [
    {
     "data": {
      "text/html": [
       "<div>\n",
       "<style scoped>\n",
       "    .dataframe tbody tr th:only-of-type {\n",
       "        vertical-align: middle;\n",
       "    }\n",
       "\n",
       "    .dataframe tbody tr th {\n",
       "        vertical-align: top;\n",
       "    }\n",
       "\n",
       "    .dataframe thead th {\n",
       "        text-align: right;\n",
       "    }\n",
       "</style>\n",
       "<table border=\"1\" class=\"dataframe\">\n",
       "  <thead>\n",
       "    <tr style=\"text-align: right;\">\n",
       "      <th></th>\n",
       "      <th>Category</th>\n",
       "      <th>Message</th>\n",
       "    </tr>\n",
       "  </thead>\n",
       "  <tbody>\n",
       "    <tr>\n",
       "      <th>0</th>\n",
       "      <td>ham</td>\n",
       "      <td>Go until jurong point, crazy.. Available only ...</td>\n",
       "    </tr>\n",
       "    <tr>\n",
       "      <th>1</th>\n",
       "      <td>ham</td>\n",
       "      <td>Ok lar... Joking wif u oni...</td>\n",
       "    </tr>\n",
       "    <tr>\n",
       "      <th>2</th>\n",
       "      <td>spam</td>\n",
       "      <td>Free entry in 2 a wkly comp to win FA Cup fina...</td>\n",
       "    </tr>\n",
       "    <tr>\n",
       "      <th>3</th>\n",
       "      <td>ham</td>\n",
       "      <td>U dun say so early hor... U c already then say...</td>\n",
       "    </tr>\n",
       "    <tr>\n",
       "      <th>4</th>\n",
       "      <td>ham</td>\n",
       "      <td>Nah I don't think he goes to usf, he lives aro...</td>\n",
       "    </tr>\n",
       "  </tbody>\n",
       "</table>\n",
       "</div>"
      ],
      "text/plain": [
       "  Category                                            Message\n",
       "0      ham  Go until jurong point, crazy.. Available only ...\n",
       "1      ham                      Ok lar... Joking wif u oni...\n",
       "2     spam  Free entry in 2 a wkly comp to win FA Cup fina...\n",
       "3      ham  U dun say so early hor... U c already then say...\n",
       "4      ham  Nah I don't think he goes to usf, he lives aro..."
      ]
     },
     "execution_count": 6,
     "metadata": {},
     "output_type": "execute_result"
    }
   ],
   "source": [
    "mail_data.head()"
   ]
  },
  {
   "cell_type": "code",
   "execution_count": 7,
   "id": "a3ccd8ff",
   "metadata": {
    "execution": {
     "iopub.execute_input": "2024-01-23T19:39:14.091966Z",
     "iopub.status.busy": "2024-01-23T19:39:14.091570Z",
     "iopub.status.idle": "2024-01-23T19:39:14.097170Z",
     "shell.execute_reply": "2024-01-23T19:39:14.096389Z"
    },
    "papermill": {
     "duration": 0.018572,
     "end_time": "2024-01-23T19:39:14.099258",
     "exception": false,
     "start_time": "2024-01-23T19:39:14.080686",
     "status": "completed"
    },
    "tags": []
   },
   "outputs": [
    {
     "data": {
      "text/plain": [
       "(5572, 2)"
      ]
     },
     "execution_count": 7,
     "metadata": {},
     "output_type": "execute_result"
    }
   ],
   "source": [
    "mail_data.shape"
   ]
  },
  {
   "cell_type": "markdown",
   "id": "b77caaa7",
   "metadata": {
    "papermill": {
     "duration": 0.009539,
     "end_time": "2024-01-23T19:39:14.118281",
     "exception": false,
     "start_time": "2024-01-23T19:39:14.108742",
     "status": "completed"
    },
    "tags": []
   },
   "source": [
    "Label Encoding\n",
    "\n",
    "label spam mail as 0;  ham mail as 1;"
   ]
  },
  {
   "cell_type": "code",
   "execution_count": 8,
   "id": "d683e9c2",
   "metadata": {
    "execution": {
     "iopub.execute_input": "2024-01-23T19:39:14.139351Z",
     "iopub.status.busy": "2024-01-23T19:39:14.138562Z",
     "iopub.status.idle": "2024-01-23T19:39:14.148376Z",
     "shell.execute_reply": "2024-01-23T19:39:14.147459Z"
    },
    "papermill": {
     "duration": 0.022974,
     "end_time": "2024-01-23T19:39:14.150692",
     "exception": false,
     "start_time": "2024-01-23T19:39:14.127718",
     "status": "completed"
    },
    "tags": []
   },
   "outputs": [],
   "source": [
    "mail_data.loc[mail_data['Category']=='spam','Category',]=0\n",
    "mail_data.loc[mail_data['Category']=='ham','Category',]=1"
   ]
  },
  {
   "cell_type": "code",
   "execution_count": 9,
   "id": "50864f86",
   "metadata": {
    "execution": {
     "iopub.execute_input": "2024-01-23T19:39:14.171279Z",
     "iopub.status.busy": "2024-01-23T19:39:14.170891Z",
     "iopub.status.idle": "2024-01-23T19:39:14.182092Z",
     "shell.execute_reply": "2024-01-23T19:39:14.181061Z"
    },
    "papermill": {
     "duration": 0.024383,
     "end_time": "2024-01-23T19:39:14.184579",
     "exception": false,
     "start_time": "2024-01-23T19:39:14.160196",
     "status": "completed"
    },
    "tags": []
   },
   "outputs": [
    {
     "data": {
      "text/html": [
       "<div>\n",
       "<style scoped>\n",
       "    .dataframe tbody tr th:only-of-type {\n",
       "        vertical-align: middle;\n",
       "    }\n",
       "\n",
       "    .dataframe tbody tr th {\n",
       "        vertical-align: top;\n",
       "    }\n",
       "\n",
       "    .dataframe thead th {\n",
       "        text-align: right;\n",
       "    }\n",
       "</style>\n",
       "<table border=\"1\" class=\"dataframe\">\n",
       "  <thead>\n",
       "    <tr style=\"text-align: right;\">\n",
       "      <th></th>\n",
       "      <th>Category</th>\n",
       "      <th>Message</th>\n",
       "    </tr>\n",
       "  </thead>\n",
       "  <tbody>\n",
       "    <tr>\n",
       "      <th>4353</th>\n",
       "      <td>1</td>\n",
       "      <td>Hows the pain dear?y r u smiling?</td>\n",
       "    </tr>\n",
       "    <tr>\n",
       "      <th>3739</th>\n",
       "      <td>1</td>\n",
       "      <td>We stopped to get ice cream and will go back a...</td>\n",
       "    </tr>\n",
       "    <tr>\n",
       "      <th>136</th>\n",
       "      <td>1</td>\n",
       "      <td>I only haf msn. It's yijue@hotmail.com</td>\n",
       "    </tr>\n",
       "    <tr>\n",
       "      <th>4166</th>\n",
       "      <td>0</td>\n",
       "      <td>Dear Voucher Holder, To claim this weeks offer...</td>\n",
       "    </tr>\n",
       "    <tr>\n",
       "      <th>2802</th>\n",
       "      <td>1</td>\n",
       "      <td>Depends on where u going lor.</td>\n",
       "    </tr>\n",
       "    <tr>\n",
       "      <th>3503</th>\n",
       "      <td>1</td>\n",
       "      <td>I will come to ur home now</td>\n",
       "    </tr>\n",
       "    <tr>\n",
       "      <th>2721</th>\n",
       "      <td>1</td>\n",
       "      <td>Ok lor...</td>\n",
       "    </tr>\n",
       "    <tr>\n",
       "      <th>2771</th>\n",
       "      <td>1</td>\n",
       "      <td>No problem. Talk to you later</td>\n",
       "    </tr>\n",
       "    <tr>\n",
       "      <th>3443</th>\n",
       "      <td>0</td>\n",
       "      <td>Save money on wedding lingerie at www.bridal.p...</td>\n",
       "    </tr>\n",
       "    <tr>\n",
       "      <th>836</th>\n",
       "      <td>1</td>\n",
       "      <td>Good Morning my Dear........... Have a great &amp;...</td>\n",
       "    </tr>\n",
       "  </tbody>\n",
       "</table>\n",
       "</div>"
      ],
      "text/plain": [
       "     Category                                            Message\n",
       "4353        1                  Hows the pain dear?y r u smiling?\n",
       "3739        1  We stopped to get ice cream and will go back a...\n",
       "136         1             I only haf msn. It's yijue@hotmail.com\n",
       "4166        0  Dear Voucher Holder, To claim this weeks offer...\n",
       "2802        1                      Depends on where u going lor.\n",
       "3503        1                         I will come to ur home now\n",
       "2721        1                                          Ok lor...\n",
       "2771        1                      No problem. Talk to you later\n",
       "3443        0  Save money on wedding lingerie at www.bridal.p...\n",
       "836         1  Good Morning my Dear........... Have a great &..."
      ]
     },
     "execution_count": 9,
     "metadata": {},
     "output_type": "execute_result"
    }
   ],
   "source": [
    "mail_data.sample(10)"
   ]
  },
  {
   "cell_type": "code",
   "execution_count": 10,
   "id": "5e1f494a",
   "metadata": {
    "execution": {
     "iopub.execute_input": "2024-01-23T19:39:14.206375Z",
     "iopub.status.busy": "2024-01-23T19:39:14.205997Z",
     "iopub.status.idle": "2024-01-23T19:39:14.210998Z",
     "shell.execute_reply": "2024-01-23T19:39:14.209980Z"
    },
    "papermill": {
     "duration": 0.018941,
     "end_time": "2024-01-23T19:39:14.213244",
     "exception": false,
     "start_time": "2024-01-23T19:39:14.194303",
     "status": "completed"
    },
    "tags": []
   },
   "outputs": [],
   "source": [
    "# separating the data as texts and label\n",
    "\n",
    "x = mail_data['Message']\n",
    "\n",
    "y = mail_data['Category']\n",
    "     "
   ]
  },
  {
   "cell_type": "code",
   "execution_count": 11,
   "id": "dd22cf21",
   "metadata": {
    "execution": {
     "iopub.execute_input": "2024-01-23T19:39:14.234265Z",
     "iopub.status.busy": "2024-01-23T19:39:14.233914Z",
     "iopub.status.idle": "2024-01-23T19:39:14.241031Z",
     "shell.execute_reply": "2024-01-23T19:39:14.240033Z"
    },
    "papermill": {
     "duration": 0.020823,
     "end_time": "2024-01-23T19:39:14.243749",
     "exception": false,
     "start_time": "2024-01-23T19:39:14.222926",
     "status": "completed"
    },
    "tags": []
   },
   "outputs": [
    {
     "name": "stdout",
     "output_type": "stream",
     "text": [
      "0       Go until jurong point, crazy.. Available only ...\n",
      "1                           Ok lar... Joking wif u oni...\n",
      "2       Free entry in 2 a wkly comp to win FA Cup fina...\n",
      "3       U dun say so early hor... U c already then say...\n",
      "4       Nah I don't think he goes to usf, he lives aro...\n",
      "                              ...                        \n",
      "5567    This is the 2nd time we have tried 2 contact u...\n",
      "5568                 Will ü b going to esplanade fr home?\n",
      "5569    Pity, * was in mood for that. So...any other s...\n",
      "5570    The guy did some bitching but I acted like i'd...\n",
      "5571                           Rofl. Its true to its name\n",
      "Name: Message, Length: 5572, dtype: object\n"
     ]
    }
   ],
   "source": [
    "print(x)"
   ]
  },
  {
   "cell_type": "code",
   "execution_count": 12,
   "id": "933e8bb9",
   "metadata": {
    "execution": {
     "iopub.execute_input": "2024-01-23T19:39:14.265992Z",
     "iopub.status.busy": "2024-01-23T19:39:14.265603Z",
     "iopub.status.idle": "2024-01-23T19:39:14.271993Z",
     "shell.execute_reply": "2024-01-23T19:39:14.270873Z"
    },
    "papermill": {
     "duration": 0.021082,
     "end_time": "2024-01-23T19:39:14.274710",
     "exception": false,
     "start_time": "2024-01-23T19:39:14.253628",
     "status": "completed"
    },
    "tags": []
   },
   "outputs": [
    {
     "name": "stdout",
     "output_type": "stream",
     "text": [
      "0       1\n",
      "1       1\n",
      "2       0\n",
      "3       1\n",
      "4       1\n",
      "       ..\n",
      "5567    0\n",
      "5568    1\n",
      "5569    1\n",
      "5570    1\n",
      "5571    1\n",
      "Name: Category, Length: 5572, dtype: object\n"
     ]
    }
   ],
   "source": [
    "print(y)"
   ]
  },
  {
   "cell_type": "markdown",
   "id": "afc00b11",
   "metadata": {
    "papermill": {
     "duration": 0.009803,
     "end_time": "2024-01-23T19:39:14.294479",
     "exception": false,
     "start_time": "2024-01-23T19:39:14.284676",
     "status": "completed"
    },
    "tags": []
   },
   "source": [
    "Splitting the data into training data & test data"
   ]
  },
  {
   "cell_type": "code",
   "execution_count": 13,
   "id": "98d178af",
   "metadata": {
    "execution": {
     "iopub.execute_input": "2024-01-23T19:39:14.316347Z",
     "iopub.status.busy": "2024-01-23T19:39:14.315944Z",
     "iopub.status.idle": "2024-01-23T19:39:14.323574Z",
     "shell.execute_reply": "2024-01-23T19:39:14.322527Z"
    },
    "papermill": {
     "duration": 0.021518,
     "end_time": "2024-01-23T19:39:14.325995",
     "exception": false,
     "start_time": "2024-01-23T19:39:14.304477",
     "status": "completed"
    },
    "tags": []
   },
   "outputs": [],
   "source": [
    "x_train, x_test, y_train, y_test = train_test_split(x, y, test_size=0.2, random_state=3)\n",
    "     "
   ]
  },
  {
   "cell_type": "code",
   "execution_count": 14,
   "id": "c41d8456",
   "metadata": {
    "execution": {
     "iopub.execute_input": "2024-01-23T19:39:14.347582Z",
     "iopub.status.busy": "2024-01-23T19:39:14.347183Z",
     "iopub.status.idle": "2024-01-23T19:39:14.352832Z",
     "shell.execute_reply": "2024-01-23T19:39:14.351715Z"
    },
    "papermill": {
     "duration": 0.019597,
     "end_time": "2024-01-23T19:39:14.355625",
     "exception": false,
     "start_time": "2024-01-23T19:39:14.336028",
     "status": "completed"
    },
    "tags": []
   },
   "outputs": [
    {
     "name": "stdout",
     "output_type": "stream",
     "text": [
      "(5572,)\n",
      "(4457,)\n",
      "(1115,)\n"
     ]
    }
   ],
   "source": [
    "print(x.shape)\n",
    "print(x_train.shape)\n",
    "print(x_test.shape)"
   ]
  },
  {
   "cell_type": "markdown",
   "id": "4aa340a1",
   "metadata": {
    "papermill": {
     "duration": 0.009883,
     "end_time": "2024-01-23T19:39:14.375531",
     "exception": false,
     "start_time": "2024-01-23T19:39:14.365648",
     "status": "completed"
    },
    "tags": []
   },
   "source": [
    "Feature Extraction"
   ]
  },
  {
   "cell_type": "code",
   "execution_count": 15,
   "id": "1e001cf1",
   "metadata": {
    "execution": {
     "iopub.execute_input": "2024-01-23T19:39:14.398303Z",
     "iopub.status.busy": "2024-01-23T19:39:14.397306Z",
     "iopub.status.idle": "2024-01-23T19:39:14.563416Z",
     "shell.execute_reply": "2024-01-23T19:39:14.562227Z"
    },
    "papermill": {
     "duration": 0.180088,
     "end_time": "2024-01-23T19:39:14.565964",
     "exception": false,
     "start_time": "2024-01-23T19:39:14.385876",
     "status": "completed"
    },
    "tags": []
   },
   "outputs": [],
   "source": [
    "# transform the text data to feature vectors that can be used as input to the Logistic regression\n",
    "\n",
    "feature_extraction = TfidfVectorizer(min_df = 1, stop_words='english', lowercase=True)\n",
    "\n",
    "x_train_features = feature_extraction.fit_transform(x_train)\n",
    "x_test_features = feature_extraction.transform(x_test)\n",
    "\n",
    "# convert Y_train and Y_test values as integers\n",
    "\n",
    "y_train = y_train.astype('int')\n",
    "y_test = y_test.astype('int')"
   ]
  },
  {
   "cell_type": "markdown",
   "id": "458b9236",
   "metadata": {
    "papermill": {
     "duration": 0.010007,
     "end_time": "2024-01-23T19:39:14.586544",
     "exception": false,
     "start_time": "2024-01-23T19:39:14.576537",
     "status": "completed"
    },
    "tags": []
   },
   "source": [
    "Training the Model using Logistic Regression"
   ]
  },
  {
   "cell_type": "code",
   "execution_count": 16,
   "id": "dfcc7f03",
   "metadata": {
    "execution": {
     "iopub.execute_input": "2024-01-23T19:39:14.608467Z",
     "iopub.status.busy": "2024-01-23T19:39:14.608075Z",
     "iopub.status.idle": "2024-01-23T19:39:14.612071Z",
     "shell.execute_reply": "2024-01-23T19:39:14.611250Z"
    },
    "papermill": {
     "duration": 0.017473,
     "end_time": "2024-01-23T19:39:14.614133",
     "exception": false,
     "start_time": "2024-01-23T19:39:14.596660",
     "status": "completed"
    },
    "tags": []
   },
   "outputs": [],
   "source": [
    "model=LogisticRegression()"
   ]
  },
  {
   "cell_type": "code",
   "execution_count": 17,
   "id": "124c63fe",
   "metadata": {
    "execution": {
     "iopub.execute_input": "2024-01-23T19:39:14.636130Z",
     "iopub.status.busy": "2024-01-23T19:39:14.635702Z",
     "iopub.status.idle": "2024-01-23T19:39:14.716125Z",
     "shell.execute_reply": "2024-01-23T19:39:14.714988Z"
    },
    "papermill": {
     "duration": 0.094658,
     "end_time": "2024-01-23T19:39:14.718753",
     "exception": false,
     "start_time": "2024-01-23T19:39:14.624095",
     "status": "completed"
    },
    "tags": []
   },
   "outputs": [
    {
     "data": {
      "text/html": [
       "<style>#sk-container-id-1 {color: black;background-color: white;}#sk-container-id-1 pre{padding: 0;}#sk-container-id-1 div.sk-toggleable {background-color: white;}#sk-container-id-1 label.sk-toggleable__label {cursor: pointer;display: block;width: 100%;margin-bottom: 0;padding: 0.3em;box-sizing: border-box;text-align: center;}#sk-container-id-1 label.sk-toggleable__label-arrow:before {content: \"▸\";float: left;margin-right: 0.25em;color: #696969;}#sk-container-id-1 label.sk-toggleable__label-arrow:hover:before {color: black;}#sk-container-id-1 div.sk-estimator:hover label.sk-toggleable__label-arrow:before {color: black;}#sk-container-id-1 div.sk-toggleable__content {max-height: 0;max-width: 0;overflow: hidden;text-align: left;background-color: #f0f8ff;}#sk-container-id-1 div.sk-toggleable__content pre {margin: 0.2em;color: black;border-radius: 0.25em;background-color: #f0f8ff;}#sk-container-id-1 input.sk-toggleable__control:checked~div.sk-toggleable__content {max-height: 200px;max-width: 100%;overflow: auto;}#sk-container-id-1 input.sk-toggleable__control:checked~label.sk-toggleable__label-arrow:before {content: \"▾\";}#sk-container-id-1 div.sk-estimator input.sk-toggleable__control:checked~label.sk-toggleable__label {background-color: #d4ebff;}#sk-container-id-1 div.sk-label input.sk-toggleable__control:checked~label.sk-toggleable__label {background-color: #d4ebff;}#sk-container-id-1 input.sk-hidden--visually {border: 0;clip: rect(1px 1px 1px 1px);clip: rect(1px, 1px, 1px, 1px);height: 1px;margin: -1px;overflow: hidden;padding: 0;position: absolute;width: 1px;}#sk-container-id-1 div.sk-estimator {font-family: monospace;background-color: #f0f8ff;border: 1px dotted black;border-radius: 0.25em;box-sizing: border-box;margin-bottom: 0.5em;}#sk-container-id-1 div.sk-estimator:hover {background-color: #d4ebff;}#sk-container-id-1 div.sk-parallel-item::after {content: \"\";width: 100%;border-bottom: 1px solid gray;flex-grow: 1;}#sk-container-id-1 div.sk-label:hover label.sk-toggleable__label {background-color: #d4ebff;}#sk-container-id-1 div.sk-serial::before {content: \"\";position: absolute;border-left: 1px solid gray;box-sizing: border-box;top: 0;bottom: 0;left: 50%;z-index: 0;}#sk-container-id-1 div.sk-serial {display: flex;flex-direction: column;align-items: center;background-color: white;padding-right: 0.2em;padding-left: 0.2em;position: relative;}#sk-container-id-1 div.sk-item {position: relative;z-index: 1;}#sk-container-id-1 div.sk-parallel {display: flex;align-items: stretch;justify-content: center;background-color: white;position: relative;}#sk-container-id-1 div.sk-item::before, #sk-container-id-1 div.sk-parallel-item::before {content: \"\";position: absolute;border-left: 1px solid gray;box-sizing: border-box;top: 0;bottom: 0;left: 50%;z-index: -1;}#sk-container-id-1 div.sk-parallel-item {display: flex;flex-direction: column;z-index: 1;position: relative;background-color: white;}#sk-container-id-1 div.sk-parallel-item:first-child::after {align-self: flex-end;width: 50%;}#sk-container-id-1 div.sk-parallel-item:last-child::after {align-self: flex-start;width: 50%;}#sk-container-id-1 div.sk-parallel-item:only-child::after {width: 0;}#sk-container-id-1 div.sk-dashed-wrapped {border: 1px dashed gray;margin: 0 0.4em 0.5em 0.4em;box-sizing: border-box;padding-bottom: 0.4em;background-color: white;}#sk-container-id-1 div.sk-label label {font-family: monospace;font-weight: bold;display: inline-block;line-height: 1.2em;}#sk-container-id-1 div.sk-label-container {text-align: center;}#sk-container-id-1 div.sk-container {/* jupyter's `normalize.less` sets `[hidden] { display: none; }` but bootstrap.min.css set `[hidden] { display: none !important; }` so we also need the `!important` here to be able to override the default hidden behavior on the sphinx rendered scikit-learn.org. See: https://github.com/scikit-learn/scikit-learn/issues/21755 */display: inline-block !important;position: relative;}#sk-container-id-1 div.sk-text-repr-fallback {display: none;}</style><div id=\"sk-container-id-1\" class=\"sk-top-container\"><div class=\"sk-text-repr-fallback\"><pre>LogisticRegression()</pre><b>In a Jupyter environment, please rerun this cell to show the HTML representation or trust the notebook. <br />On GitHub, the HTML representation is unable to render, please try loading this page with nbviewer.org.</b></div><div class=\"sk-container\" hidden><div class=\"sk-item\"><div class=\"sk-estimator sk-toggleable\"><input class=\"sk-toggleable__control sk-hidden--visually\" id=\"sk-estimator-id-1\" type=\"checkbox\" checked><label for=\"sk-estimator-id-1\" class=\"sk-toggleable__label sk-toggleable__label-arrow\">LogisticRegression</label><div class=\"sk-toggleable__content\"><pre>LogisticRegression()</pre></div></div></div></div></div>"
      ],
      "text/plain": [
       "LogisticRegression()"
      ]
     },
     "execution_count": 17,
     "metadata": {},
     "output_type": "execute_result"
    }
   ],
   "source": [
    "model.fit(x_train_features,y_train)"
   ]
  },
  {
   "cell_type": "markdown",
   "id": "517fd5a3",
   "metadata": {
    "papermill": {
     "duration": 0.009962,
     "end_time": "2024-01-23T19:39:14.739116",
     "exception": false,
     "start_time": "2024-01-23T19:39:14.729154",
     "status": "completed"
    },
    "tags": []
   },
   "source": []
  },
  {
   "cell_type": "markdown",
   "id": "2ee0628a",
   "metadata": {
    "papermill": {
     "duration": 0.010006,
     "end_time": "2024-01-23T19:39:14.759433",
     "exception": false,
     "start_time": "2024-01-23T19:39:14.749427",
     "status": "completed"
    },
    "tags": []
   },
   "source": [
    "Evaluating the trained model"
   ]
  },
  {
   "cell_type": "code",
   "execution_count": 18,
   "id": "3ab88de7",
   "metadata": {
    "execution": {
     "iopub.execute_input": "2024-01-23T19:39:14.781694Z",
     "iopub.status.busy": "2024-01-23T19:39:14.781309Z",
     "iopub.status.idle": "2024-01-23T19:39:14.789119Z",
     "shell.execute_reply": "2024-01-23T19:39:14.787928Z"
    },
    "papermill": {
     "duration": 0.021628,
     "end_time": "2024-01-23T19:39:14.791270",
     "exception": false,
     "start_time": "2024-01-23T19:39:14.769642",
     "status": "completed"
    },
    "tags": []
   },
   "outputs": [
    {
     "name": "stdout",
     "output_type": "stream",
     "text": [
      "Accuracy on training data 0.9670181736594121\n"
     ]
    }
   ],
   "source": [
    "# Prediction and accuracy testing\n",
    "prediction_Tdata=model.predict(x_train_features)\n",
    "accuracy_on_Trainingdata=accuracy_score(y_train,prediction_Tdata)\n",
    "print('Accuracy on training data',accuracy_on_Trainingdata)"
   ]
  },
  {
   "cell_type": "code",
   "execution_count": 19,
   "id": "7c0b7677",
   "metadata": {
    "execution": {
     "iopub.execute_input": "2024-01-23T19:39:14.814103Z",
     "iopub.status.busy": "2024-01-23T19:39:14.813701Z",
     "iopub.status.idle": "2024-01-23T19:39:14.821379Z",
     "shell.execute_reply": "2024-01-23T19:39:14.820282Z"
    },
    "papermill": {
     "duration": 0.021829,
     "end_time": "2024-01-23T19:39:14.823615",
     "exception": false,
     "start_time": "2024-01-23T19:39:14.801786",
     "status": "completed"
    },
    "tags": []
   },
   "outputs": [
    {
     "name": "stdout",
     "output_type": "stream",
     "text": [
      "Accuracy on Test data: 0.9659192825112107\n"
     ]
    }
   ],
   "source": [
    "# prediction on test data\n",
    "\n",
    "prediction_on_test_data = model.predict(x_test_features)\n",
    "accuracy_on_test_data = accuracy_score(y_test, prediction_on_test_data)\n",
    "print('Accuracy on Test data:',accuracy_on_test_data)"
   ]
  },
  {
   "cell_type": "markdown",
   "id": "02fde608",
   "metadata": {
    "papermill": {
     "duration": 0.010357,
     "end_time": "2024-01-23T19:39:14.844453",
     "exception": false,
     "start_time": "2024-01-23T19:39:14.834096",
     "status": "completed"
    },
    "tags": []
   },
   "source": [
    "Predictive System"
   ]
  },
  {
   "cell_type": "code",
   "execution_count": 20,
   "id": "92307dac",
   "metadata": {
    "execution": {
     "iopub.execute_input": "2024-01-23T19:39:14.867609Z",
     "iopub.status.busy": "2024-01-23T19:39:14.866790Z",
     "iopub.status.idle": "2024-01-23T19:39:14.876116Z",
     "shell.execute_reply": "2024-01-23T19:39:14.874972Z"
    },
    "papermill": {
     "duration": 0.023203,
     "end_time": "2024-01-23T19:39:14.878212",
     "exception": false,
     "start_time": "2024-01-23T19:39:14.855009",
     "status": "completed"
    },
    "tags": []
   },
   "outputs": [
    {
     "name": "stdout",
     "output_type": "stream",
     "text": [
      "[1]\n",
      "Ham mail\n"
     ]
    }
   ],
   "source": [
    "input_mail = [\"I've been searching for the right words to thank you for this breather. I promise i wont take your help for granted and will fulfil my promise. You have been wonderful and a blessing at all times\"]\n",
    "\n",
    "# convert text to feature vectors\n",
    "input_data_features = feature_extraction.transform(input_mail)\n",
    "\n",
    "# making prediction\n",
    "\n",
    "prediction = model.predict(input_data_features)\n",
    "print(prediction)\n",
    "\n",
    "\n",
    "if (prediction[0]==1):\n",
    "  print('Ham mail')\n",
    "\n",
    "else:\n",
    "  print('Spam mail')"
   ]
  },
  {
   "cell_type": "code",
   "execution_count": null,
   "id": "1cffe8f3",
   "metadata": {
    "papermill": {
     "duration": 0.010308,
     "end_time": "2024-01-23T19:39:14.898997",
     "exception": false,
     "start_time": "2024-01-23T19:39:14.888689",
     "status": "completed"
    },
    "tags": []
   },
   "outputs": [],
   "source": []
  }
 ],
 "metadata": {
  "kaggle": {
   "accelerator": "none",
   "dataSources": [
    {
     "datasetId": 4345663,
     "sourceId": 7465613,
     "sourceType": "datasetVersion"
    }
   ],
   "dockerImageVersionId": 30635,
   "isGpuEnabled": false,
   "isInternetEnabled": true,
   "language": "python",
   "sourceType": "notebook"
  },
  "kernelspec": {
   "display_name": "Python 3",
   "language": "python",
   "name": "python3"
  },
  "language_info": {
   "codemirror_mode": {
    "name": "ipython",
    "version": 3
   },
   "file_extension": ".py",
   "mimetype": "text/x-python",
   "name": "python",
   "nbconvert_exporter": "python",
   "pygments_lexer": "ipython3",
   "version": "3.10.12"
  },
  "papermill": {
   "default_parameters": {},
   "duration": 6.625735,
   "end_time": "2024-01-23T19:39:15.530658",
   "environment_variables": {},
   "exception": null,
   "input_path": "__notebook__.ipynb",
   "output_path": "__notebook__.ipynb",
   "parameters": {},
   "start_time": "2024-01-23T19:39:08.904923",
   "version": "2.4.0"
  }
 },
 "nbformat": 4,
 "nbformat_minor": 5
}
